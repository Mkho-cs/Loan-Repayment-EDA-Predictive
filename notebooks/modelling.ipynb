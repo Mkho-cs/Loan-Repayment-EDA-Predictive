{
 "cells": [
  {
   "cell_type": "markdown",
   "source": [
    "# Loan Repayment \n",
    "## Predictive Modelling"
   ],
   "metadata": {}
  },
  {
   "cell_type": "code",
   "execution_count": 16,
   "source": [
    "import os\n",
    "# Change directory to this file's directory\n",
    "thisPath = globals()['_dh'][-1]\n",
    "os.chdir(thisPath)\n",
    "print(\"This file's directory:\", os.getcwd())\n",
    "# Change current path to parent of this file's directory\n",
    "# to access all modules from parent\n",
    "os.chdir('..')\n",
    "print(\"Parent directory:\", os.getcwd())"
   ],
   "outputs": [
    {
     "output_type": "stream",
     "name": "stdout",
     "text": [
      "This file's directory: /home/mattkhoo/Git-Loan-Repayment-EDA-Predictive/notebooks\n",
      "Parent directory: /home/mattkhoo/Git-Loan-Repayment-EDA-Predictive\n"
     ]
    }
   ],
   "metadata": {}
  },
  {
   "cell_type": "code",
   "execution_count": 6,
   "source": [],
   "outputs": [
    {
     "output_type": "execute_result",
     "data": {
      "text/plain": [
       "'/home/mattkhoo/miniconda3/envs/predictive/lib'"
      ]
     },
     "metadata": {},
     "execution_count": 6
    }
   ],
   "metadata": {}
  }
 ],
 "metadata": {
  "orig_nbformat": 4,
  "language_info": {
   "name": "python",
   "version": "3.8.12",
   "mimetype": "text/x-python",
   "codemirror_mode": {
    "name": "ipython",
    "version": 3
   },
   "pygments_lexer": "ipython3",
   "nbconvert_exporter": "python",
   "file_extension": ".py"
  },
  "kernelspec": {
   "name": "python3",
   "display_name": "Python 3.8.12 64-bit ('predictive': conda)"
  },
  "interpreter": {
   "hash": "716950cba88e4d332b35c8ddd4e849e4d8a5dadfbf33d00dfe2f47b77ad17c80"
  }
 },
 "nbformat": 4,
 "nbformat_minor": 2
}