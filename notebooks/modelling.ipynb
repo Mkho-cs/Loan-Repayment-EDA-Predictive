{
 "cells": [
  {
   "cell_type": "markdown",
   "source": [
    "# Loan Repayment \n",
    "## Predictive Modelling"
   ],
   "metadata": {}
  },
  {
   "cell_type": "markdown",
   "source": [
    "<font size='3'>\n",
    "This notebook will cover three main sections: Feature Selection, Data Preparation, and Predictive Modelling. <b> The final outcome will be binary classification machine learning models which will be used to predict whether a funded loan will be paid off or defaulted using selected features.</b> It is highly recommended to go through data_transform.ipynb and eda.ipynb before jumping into this notebook.<br><br>\n",
    "\n",
    "The target variable in for this classification problem will be the 'paidOff'; it indicates whether a completed funded loan receives payment as originally scheduled or not (True/False).\n",
    "</font>"
   ],
   "metadata": {}
  },
  {
   "cell_type": "code",
   "execution_count": 1,
   "source": [
    "import os\n",
    "# Change directory to this file's directory\n",
    "this_path = globals()['_dh'][-1]\n",
    "os.chdir(this_path)\n",
    "print(\"This file's directory:\", os.getcwd())\n",
    "# Change current path to parent of this file's directory\n",
    "# to access all modules from parent\n",
    "os.chdir('..')\n",
    "source_path = os.getcwd()\n",
    "print(\"Parent directory:\", source_path)"
   ],
   "outputs": [
    {
     "output_type": "stream",
     "name": "stdout",
     "text": [
      "This file's directory: /home/mattkhoo/Git-Loan-Repayment-EDA-Predictive/notebooks\n",
      "Parent directory: /home/mattkhoo/Git-Loan-Repayment-EDA-Predictive\n"
     ]
    }
   ],
   "metadata": {}
  },
  {
   "cell_type": "code",
   "execution_count": 2,
   "source": [
    "from main.data_loader import DataLoader\n",
    "from main import modelling_utils as mod\n",
    "%matplotlib inline"
   ],
   "outputs": [],
   "metadata": {}
  },
  {
   "cell_type": "code",
   "execution_count": 3,
   "source": [
    "# Load transformed data\n",
    "os.chdir(source_path)\n",
    "feather_path = os.path.join(str(os.getcwd()),'data-feathers') \n",
    "data_manager = DataLoader()\n",
    "load_path = os.path.join(feather_path, 'transformed')\n",
    "data_manager.load_feather(load_path)\n",
    "print(\"Shape of transformed data:\", data_manager.data.shape)\n",
    "data_manager.display(5, True)"
   ],
   "outputs": [
    {
     "output_type": "stream",
     "name": "stdout",
     "text": [
      "Shape of transformed data: (30672, 15)\n"
     ]
    },
    {
     "output_type": "execute_result",
     "data": {
      "text/html": [
       "<div>\n",
       "<style scoped>\n",
       "    .dataframe tbody tr th:only-of-type {\n",
       "        vertical-align: middle;\n",
       "    }\n",
       "\n",
       "    .dataframe tbody tr th {\n",
       "        vertical-align: top;\n",
       "    }\n",
       "\n",
       "    .dataframe thead th {\n",
       "        text-align: right;\n",
       "    }\n",
       "</style>\n",
       "<table border=\"1\" class=\"dataframe\">\n",
       "  <thead>\n",
       "    <tr style=\"text-align: right;\">\n",
       "      <th></th>\n",
       "      <th>payFrequency</th>\n",
       "      <th>apr</th>\n",
       "      <th>nPaidOff</th>\n",
       "      <th>loanStatus</th>\n",
       "      <th>loanAmount</th>\n",
       "      <th>originallyScheduledPaymentAmount</th>\n",
       "      <th>state</th>\n",
       "      <th>leadType</th>\n",
       "      <th>leadCost</th>\n",
       "      <th>fpStatus</th>\n",
       "      <th>hasCF</th>\n",
       "      <th>applicationYear</th>\n",
       "      <th>paymentAmount</th>\n",
       "      <th>paidOff</th>\n",
       "      <th>clearfraudscore</th>\n",
       "    </tr>\n",
       "  </thead>\n",
       "  <tbody>\n",
       "    <tr>\n",
       "      <th>0</th>\n",
       "      <td>B</td>\n",
       "      <td>199.0</td>\n",
       "      <td>0.0</td>\n",
       "      <td>Paid Off Loan</td>\n",
       "      <td>3000.0</td>\n",
       "      <td>6395.19</td>\n",
       "      <td>CA</td>\n",
       "      <td>prescreen</td>\n",
       "      <td>0</td>\n",
       "      <td>Checked</td>\n",
       "      <td>1</td>\n",
       "      <td>2016</td>\n",
       "      <td>6287.08</td>\n",
       "      <td>False</td>\n",
       "      <td>879.0</td>\n",
       "    </tr>\n",
       "    <tr>\n",
       "      <th>1</th>\n",
       "      <td>S</td>\n",
       "      <td>490.0</td>\n",
       "      <td>2.0</td>\n",
       "      <td>Paid Off Loan</td>\n",
       "      <td>1250.0</td>\n",
       "      <td>3313.78</td>\n",
       "      <td>MO</td>\n",
       "      <td>organic</td>\n",
       "      <td>0</td>\n",
       "      <td>Checked</td>\n",
       "      <td>1</td>\n",
       "      <td>2017</td>\n",
       "      <td>1333.75</td>\n",
       "      <td>False</td>\n",
       "      <td>835.0</td>\n",
       "    </tr>\n",
       "    <tr>\n",
       "      <th>2</th>\n",
       "      <td>B</td>\n",
       "      <td>590.0</td>\n",
       "      <td>0.0</td>\n",
       "      <td>Paid Off Loan</td>\n",
       "      <td>800.0</td>\n",
       "      <td>2432.08</td>\n",
       "      <td>CA</td>\n",
       "      <td>bvMandatory</td>\n",
       "      <td>10</td>\n",
       "      <td>Checked</td>\n",
       "      <td>1</td>\n",
       "      <td>2016</td>\n",
       "      <td>2432.08</td>\n",
       "      <td>True</td>\n",
       "      <td>624.0</td>\n",
       "    </tr>\n",
       "    <tr>\n",
       "      <th>3</th>\n",
       "      <td>W</td>\n",
       "      <td>404.1</td>\n",
       "      <td>3.0</td>\n",
       "      <td>Paid Off Loan</td>\n",
       "      <td>300.0</td>\n",
       "      <td>422.64</td>\n",
       "      <td>WI</td>\n",
       "      <td>organic</td>\n",
       "      <td>0</td>\n",
       "      <td>Checked</td>\n",
       "      <td>1</td>\n",
       "      <td>2016</td>\n",
       "      <td>395.94</td>\n",
       "      <td>False</td>\n",
       "      <td>770.0</td>\n",
       "    </tr>\n",
       "    <tr>\n",
       "      <th>4</th>\n",
       "      <td>B</td>\n",
       "      <td>315.0</td>\n",
       "      <td>2.0</td>\n",
       "      <td>Internal Collection</td>\n",
       "      <td>1500.0</td>\n",
       "      <td>2875.27</td>\n",
       "      <td>IL</td>\n",
       "      <td>organic</td>\n",
       "      <td>0</td>\n",
       "      <td>Rejected</td>\n",
       "      <td>1</td>\n",
       "      <td>2017</td>\n",
       "      <td>0.00</td>\n",
       "      <td>False</td>\n",
       "      <td>932.0</td>\n",
       "    </tr>\n",
       "  </tbody>\n",
       "</table>\n",
       "</div>"
      ],
      "text/plain": [
       "  payFrequency    apr  nPaidOff           loanStatus  loanAmount  \\\n",
       "0            B  199.0       0.0        Paid Off Loan      3000.0   \n",
       "1            S  490.0       2.0        Paid Off Loan      1250.0   \n",
       "2            B  590.0       0.0        Paid Off Loan       800.0   \n",
       "3            W  404.1       3.0        Paid Off Loan       300.0   \n",
       "4            B  315.0       2.0  Internal Collection      1500.0   \n",
       "\n",
       "   originallyScheduledPaymentAmount state     leadType  leadCost  fpStatus  \\\n",
       "0                           6395.19    CA    prescreen         0   Checked   \n",
       "1                           3313.78    MO      organic         0   Checked   \n",
       "2                           2432.08    CA  bvMandatory        10   Checked   \n",
       "3                            422.64    WI      organic         0   Checked   \n",
       "4                           2875.27    IL      organic         0  Rejected   \n",
       "\n",
       "   hasCF  applicationYear  paymentAmount  paidOff  clearfraudscore  \n",
       "0      1             2016        6287.08    False            879.0  \n",
       "1      1             2017        1333.75    False            835.0  \n",
       "2      1             2016        2432.08     True            624.0  \n",
       "3      1             2016         395.94    False            770.0  \n",
       "4      1             2017           0.00    False            932.0  "
      ]
     },
     "metadata": {},
     "execution_count": 3
    }
   ],
   "metadata": {}
  },
  {
   "cell_type": "markdown",
   "source": [
    "## Feature Selection\n",
    "<font size='3'> The decisions made here are mainly supported by insights gained in the correlation section of eda.ipynb.<br><br>\n",
    "Summary of decisions:</font>\n",
    "\n",
    "- <font size='3'> Payment amount and originally scheduled payment variables will be removed as the target variable is derived from these values.</font><br><br>\n",
    "- <font size='3'> Loan amount will be kept since payment amount and scheduled amount are removed.</font><br><br>\n",
    "- <font size='3'> Loan status is removed due to being a dynamic variable and a contender to the target variable, hence not suitable as a predictor.</font><br><br>\n",
    "- <font size='3'> Lead cost is considered a redundancy as there is lead type.</font><br><br>\n",
    "- <font size='3'> Year is removed as it is not a useful variable, instead loan term would be a better variable related to time, but data on loan term is not found.</font>"
   ],
   "metadata": {}
  },
  {
   "cell_type": "code",
   "execution_count": 4,
   "source": [
    "# Drop the chosen columns\n",
    "dropped_cols = ['loanStatus', 'originallyScheduledPaymentAmount', 'paymentAmount', 'leadCost', 'applicationYear']\n",
    "data_manager.drop_column(dropped_cols)"
   ],
   "outputs": [],
   "metadata": {}
  },
  {
   "cell_type": "markdown",
   "source": [
    "## Data Preparation\n",
    "<font size='3'> The processes detailed below will be performed in consideration of tree-based models for now. Tree-based models are prioritzed in experimentation due to the <b>much smaller number of features compared to data records/instances available.</b> Tree-based algorithms also have higher interpretability compared to SVM, neural networks, and other complex methods.<br><br>\n",
    "\n",
    "Summary of data preprocessing:</font>\n",
    "\n",
    "- <font size='3'> Ordinal encoding for categorical predictors.</font><br><br>\n",
    "- <font size='3'> Standard scaling continuous predictors.</font><br><br>\n",
    "- <font size='3'> Label encoding for target variable.</font>"
   ],
   "metadata": {}
  },
  {
   "cell_type": "code",
   "execution_count": 5,
   "source": [
    "# Convert all categorical variables accordingly\n",
    "data_manager.convert_dtype(origin='object', target='category')  # object (string) to category\n",
    "data_manager.convert_dtype(origin='bool', target='category') # boolean to category\n",
    "to_cat = ['hasCF', 'nPaidOff']\n",
    "data_manager.column_to_cat(to_cat)  # convert selected columns to 'category'"
   ],
   "outputs": [],
   "metadata": {}
  },
  {
   "cell_type": "code",
   "execution_count": 6,
   "source": [
    "# Separate target variable from predictors\n",
    "y = data_manager.data.paidOff\n",
    "data_manager.drop_column(['paidOff'])"
   ],
   "outputs": [],
   "metadata": {}
  },
  {
   "cell_type": "code",
   "execution_count": 7,
   "source": [
    "# Verify categorical and continuous variables first\n",
    "cat_cols = data_manager.cat_col_names()\n",
    "cont_cols = data_manager.noncat_col_names()\n",
    "print(\"Categorical predictors:\", cat_cols)\n",
    "print(\"Continuous predictors:\", cont_cols)"
   ],
   "outputs": [
    {
     "output_type": "stream",
     "name": "stdout",
     "text": [
      "Categorical predictors: ['payFrequency', 'nPaidOff', 'state', 'leadType', 'fpStatus', 'hasCF']\n",
      "Continuous predictors: ['apr', 'loanAmount', 'clearfraudscore']\n"
     ]
    }
   ],
   "metadata": {}
  },
  {
   "cell_type": "code",
   "execution_count": 8,
   "source": [
    "from sklearn.preprocessing import OrdinalEncoder, LabelEncoder, StandardScaler\n",
    "from sklearn.compose import ColumnTransformer\n",
    "from sklearn.model_selection import train_test_split"
   ],
   "outputs": [],
   "metadata": {}
  },
  {
   "cell_type": "code",
   "execution_count": 9,
   "source": [
    "# Create and fit pipelines accordingly for predictors\n",
    "pipeline = ColumnTransformer([\n",
    "    ('num_scaler', StandardScaler(), cont_cols),\n",
    "    ('cat_enc', OrdinalEncoder(), cat_cols)\n",
    "    ], remainder='passthrough')\n",
    "\n",
    "x_prep = pipeline.fit_transform(data_manager.data)\n",
    "print(x_prep.shape)"
   ],
   "outputs": [
    {
     "output_type": "stream",
     "name": "stdout",
     "text": [
      "(30672, 9)\n"
     ]
    }
   ],
   "metadata": {}
  },
  {
   "cell_type": "code",
   "execution_count": 10,
   "source": [
    "# Encode the target variable\n",
    "y_prep = LabelEncoder().fit_transform(y)\n",
    "print(y_prep.shape)"
   ],
   "outputs": [
    {
     "output_type": "stream",
     "name": "stdout",
     "text": [
      "(30672,)\n"
     ]
    }
   ],
   "metadata": {}
  },
  {
   "cell_type": "code",
   "execution_count": 11,
   "source": [
    "# Split into train-validation\n",
    "x_train, x_val, y_train, y_val = train_test_split(x_prep, y_prep, train_size=0.75, random_state=12345)\n",
    "print(x_train.shape, x_val.shape)\n",
    "print(y_train.shape, y_val.shape)"
   ],
   "outputs": [
    {
     "output_type": "stream",
     "name": "stdout",
     "text": [
      "(23004, 9) (7668, 9)\n",
      "(23004,) (7668,)\n"
     ]
    }
   ],
   "metadata": {}
  },
  {
   "cell_type": "code",
   "execution_count": null,
   "source": [],
   "outputs": [],
   "metadata": {}
  }
 ],
 "metadata": {
  "orig_nbformat": 4,
  "language_info": {
   "name": "python",
   "version": "3.8.12",
   "mimetype": "text/x-python",
   "codemirror_mode": {
    "name": "ipython",
    "version": 3
   },
   "pygments_lexer": "ipython3",
   "nbconvert_exporter": "python",
   "file_extension": ".py"
  },
  "kernelspec": {
   "name": "python3",
   "display_name": "Python 3.8.12 64-bit ('predictive': conda)"
  },
  "interpreter": {
   "hash": "716950cba88e4d332b35c8ddd4e849e4d8a5dadfbf33d00dfe2f47b77ad17c80"
  }
 },
 "nbformat": 4,
 "nbformat_minor": 2
}