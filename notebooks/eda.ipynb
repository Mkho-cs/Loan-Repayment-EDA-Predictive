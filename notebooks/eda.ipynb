{
 "cells": [
  {
   "cell_type": "markdown",
   "source": [
    "# Loan Repayment \n",
    "## Exploratory Data Analysis (EDA)\n",
    "<br>\n",
    "<font size='3'>\n",
    "Problem statement:<br>\n",
    "Banks, fintech companies, and other institutions that provide loans rigourously need to analyze the credit score for all clients. There are mechanisms such as underwriting reports which assess the fraud risk for a given potential borrower. However, these risk scoring mechanisms only provide information whether to approve or not approve a certain loan. There are greater risk issues with funded loans where the borrower defaults (do not pay off). \n",
    "<br><br>\n",
    "Hence, this loan repayment task is consequential towards objectively assessing the risk of whether a funded borrower can actually pay off their loans. In essence, this task ultimately results in creating <b>predictive models that can accurately predict whether a funded borrower will pay off (True) or default (False).</b> \n",
    "<br><br>\n",
    "This notebook is the first part of loan repayment task which includes data transformations and exploring actionable data for interesting insights. Data transformation include cleaning unimportant records and columns, aggregating columns to create new parameter(s), and join data together with other datasets to come up with a set of parameters that will be useful for storytelling and later imported for the modelling section.\n",
    "<br><br>\n",
    "<b>Note: Please go through this notebook before reviewing modelling.ipynb</b>\n",
    "</font>"
   ],
   "metadata": {}
  },
  {
   "cell_type": "code",
   "execution_count": 1,
   "source": [
    "import os\n",
    "# Change directory to this file's directory\n",
    "this_path = globals()['_dh'][-1]\n",
    "os.chdir(this_path)\n",
    "print(\"This file's directory:\", os.getcwd())\n",
    "# Change current path to parent of this file's directory\n",
    "# to access all modules from parent\n",
    "os.chdir('..')\n",
    "source_path = os.getcwd()\n",
    "print(\"Parent directory:\", source_path)"
   ],
   "outputs": [
    {
     "output_type": "stream",
     "name": "stdout",
     "text": [
      "This file's directory: /home/mattkhoo/Git-Loan-Repayment-EDA-Predictive/notebooks\n",
      "Parent directory: /home/mattkhoo/Git-Loan-Repayment-EDA-Predictive\n"
     ]
    }
   ],
   "metadata": {}
  },
  {
   "cell_type": "code",
   "execution_count": 2,
   "source": [
    "from main.data_loader import DataLoader\n",
    "import main.viz_utils as viz\n",
    "%matplotlib inline"
   ],
   "outputs": [],
   "metadata": {}
  },
  {
   "cell_type": "code",
   "execution_count": 3,
   "source": [
    "# Load feather data\n",
    "os.chdir(source_path)\n",
    "feather_path = os.path.join(str(os.getcwd()),'data-feathers') \n",
    "for _, _, files in os.walk(feather_path):\n",
    "    for file in files: print(file)"
   ],
   "outputs": [
    {
     "output_type": "stream",
     "name": "stdout",
     "text": [
      "clarity_underwriting_variables\n",
      "payment\n",
      "loan\n"
     ]
    }
   ],
   "metadata": {}
  },
  {
   "cell_type": "markdown",
   "source": [
    "## Data Transformation on Loan "
   ],
   "metadata": {}
  },
  {
   "cell_type": "markdown",
   "source": [
    "<font size=\"3\"> \n",
    "Reasoning: The chosen columns are deemed not useful for loan repayment analysis. Columns such as 'originated' and 'approved' precede (chronologically) the column 'isFunded'. Since this is a loan repayment problem, <b>we only care about funded loans</b>. Date columns are not relevant since there is no date data on when each loan is actually funded and when the loan is originally supposed to be paid. Hence, the punctuality of loan repayments cannot be measured. As for identification columns, only primary/foreign keys are useful for joins later, hence anon_ssn is removed. \n",
    "<br><br>\n",
    "Further transformation will be done together with the other datasets after their respective transformations.\n",
    "</font>"
   ],
   "metadata": {}
  },
  {
   "cell_type": "code",
   "execution_count": 4,
   "source": [
    "# Load loan data\n",
    "loan_feather_path = os.path.join(feather_path, 'loan')\n",
    "loan_manager = DataLoader()\n",
    "loan_manager.load_feather(loan_feather_path)\n",
    "# loan_manager.display(10, False)  # display last n rows"
   ],
   "outputs": [],
   "metadata": {}
  },
  {
   "cell_type": "code",
   "execution_count": 5,
   "source": [
    "# Drop unused columns\n",
    "dropped = ['anon_ssn', 'applicationDate', 'originated', 'originatedDate', 'approved']\n",
    "loan_manager.drop_column(dropped)\n",
    "loan_manager.display_types()"
   ],
   "outputs": [
    {
     "output_type": "execute_result",
     "data": {
      "text/plain": [
       "loanId                               object\n",
       "payFrequency                         object\n",
       "apr                                 float64\n",
       "nPaidOff                            float64\n",
       "isFunded                              int64\n",
       "loanStatus                           object\n",
       "loanAmount                          float64\n",
       "originallyScheduledPaymentAmount    float64\n",
       "state                                object\n",
       "leadType                             object\n",
       "leadCost                              int64\n",
       "fpStatus                             object\n",
       "clarityFraudId                       object\n",
       "hasCF                                 int64\n",
       "dtype: object"
      ]
     },
     "metadata": {},
     "execution_count": 5
    }
   ],
   "metadata": {}
  },
  {
   "cell_type": "code",
   "execution_count": 6,
   "source": [
    "loan_manager.data.isFunded.unique()"
   ],
   "outputs": [
    {
     "output_type": "execute_result",
     "data": {
      "text/plain": [
       "array([0, 1])"
      ]
     },
     "metadata": {},
     "execution_count": 6
    }
   ],
   "metadata": {}
  },
  {
   "cell_type": "code",
   "execution_count": 7,
   "source": [
    "loan_manager.single_eqfilter('isFunded', 1)  # get all funded loans\n",
    "loan_manager.drop_column(['isFunded'])  # now we can drop isFunded\n",
    "print(\"Shape of all funded loan data:\", loan_manager.data.shape)"
   ],
   "outputs": [
    {
     "output_type": "stream",
     "name": "stdout",
     "text": [
      "Shape of all funded loan data: (38982, 13)\n"
     ]
    }
   ],
   "metadata": {}
  },
  {
   "cell_type": "markdown",
   "source": [
    "## Data transformation for Payment\n",
    "\n",
    "<font size='3'>There are only three important columns in payment, mainly for aggregation:</font>\n",
    "\n",
    "- <font size='3'>loanId: </font>         \n",
    "    - As a foreign key to join with loan data and basis for aggregation\n",
    "    <br><br>\n",
    " - <font size='3'>paymentAmount:  </font> \n",
    "   - Aggregated sum for each loanID\n",
    "   <br><br>\n",
    " - <font size='3'>paymentStatus:</font>    \n",
    "   - Aggregate for only 'Checked' status\n"
   ],
   "metadata": {}
  },
  {
   "cell_type": "code",
   "execution_count": 8,
   "source": [
    "# Load payment data\n",
    "payment_feather_path = os.path.join(feather_path, 'payment')\n",
    "payment_manager = DataLoader()\n",
    "payment_manager.load_feather(payment_feather_path)\n",
    "# payment_manager.display(10, False) # display last n rows"
   ],
   "outputs": [],
   "metadata": {}
  },
  {
   "cell_type": "markdown",
   "source": [
    "<font size='4'>The intuition behind these transformations:</font>\n",
    "\n",
    " - <font size='3'> Enforces a focused scope on payments for loan repayment.</font><br><br>\n",
    " - <font size='3'><b>Only consider loan payments that are actually received by the company.</b></font><br><br>\n",
    " - <font size='3'>Aggregation of total successful payments yields a grouped sum for each loan.</font><br><br>\n",
    " - <font size='3'>Join with the loan dataset later will yield more meaningful results.</font>\n"
   ],
   "metadata": {}
  },
  {
   "cell_type": "code",
   "execution_count": 9,
   "source": [
    "# Filter 'Checked' payment status only\n",
    "payment_manager.single_eqfilter('paymentStatus', 'Checked')\n",
    "# Filter to only choose loanId and paymentAmount columns\n",
    "chosen = ['loanId', 'paymentAmount']\n",
    "payment_manager.chosen_cols(chosen)\n",
    "print(\"Shape of all checked payments: \",payment_manager.data.shape)"
   ],
   "outputs": [
    {
     "output_type": "stream",
     "name": "stdout",
     "text": [
      "Shape of all checked payments:  (209621, 2)\n"
     ]
    }
   ],
   "metadata": {}
  },
  {
   "cell_type": "code",
   "execution_count": 10,
   "source": [
    "# Sum paymentAmount by loanId\n",
    "group = ['loanId']\n",
    "target = ['paymentAmount']\n",
    "agg_payment = payment_manager.groupby_sum(group, target)    # returns a dataframe of summed loans\n",
    "print(\"Shape of all loans with at least one successful payment:\", agg_payment.shape)"
   ],
   "outputs": [
    {
     "output_type": "stream",
     "name": "stdout",
     "text": [
      "Shape of all loans with at least one successful payment: (32168, 2)\n"
     ]
    }
   ],
   "metadata": {}
  },
  {
   "cell_type": "code",
   "execution_count": 11,
   "source": [
    "agg_payment.head(10)"
   ],
   "outputs": [
    {
     "output_type": "execute_result",
     "data": {
      "text/html": [
       "<div>\n",
       "<style scoped>\n",
       "    .dataframe tbody tr th:only-of-type {\n",
       "        vertical-align: middle;\n",
       "    }\n",
       "\n",
       "    .dataframe tbody tr th {\n",
       "        vertical-align: top;\n",
       "    }\n",
       "\n",
       "    .dataframe thead th {\n",
       "        text-align: right;\n",
       "    }\n",
       "</style>\n",
       "<table border=\"1\" class=\"dataframe\">\n",
       "  <thead>\n",
       "    <tr style=\"text-align: right;\">\n",
       "      <th></th>\n",
       "      <th>loanId</th>\n",
       "      <th>paymentAmount</th>\n",
       "    </tr>\n",
       "  </thead>\n",
       "  <tbody>\n",
       "    <tr>\n",
       "      <th>0</th>\n",
       "      <td>LL-I-00000021</td>\n",
       "      <td>1865.61</td>\n",
       "    </tr>\n",
       "    <tr>\n",
       "      <th>1</th>\n",
       "      <td>LL-I-00000231</td>\n",
       "      <td>258.64</td>\n",
       "    </tr>\n",
       "    <tr>\n",
       "      <th>2</th>\n",
       "      <td>LL-I-00000238</td>\n",
       "      <td>1162.60</td>\n",
       "    </tr>\n",
       "    <tr>\n",
       "      <th>3</th>\n",
       "      <td>LL-I-00000308</td>\n",
       "      <td>61.59</td>\n",
       "    </tr>\n",
       "    <tr>\n",
       "      <th>4</th>\n",
       "      <td>LL-I-00000419</td>\n",
       "      <td>226.31</td>\n",
       "    </tr>\n",
       "    <tr>\n",
       "      <th>5</th>\n",
       "      <td>LL-I-00001902</td>\n",
       "      <td>1272.00</td>\n",
       "    </tr>\n",
       "    <tr>\n",
       "      <th>6</th>\n",
       "      <td>LL-I-00002130</td>\n",
       "      <td>270.70</td>\n",
       "    </tr>\n",
       "    <tr>\n",
       "      <th>7</th>\n",
       "      <td>LL-I-00002148</td>\n",
       "      <td>200.74</td>\n",
       "    </tr>\n",
       "    <tr>\n",
       "      <th>8</th>\n",
       "      <td>LL-I-00002583</td>\n",
       "      <td>461.69</td>\n",
       "    </tr>\n",
       "    <tr>\n",
       "      <th>9</th>\n",
       "      <td>LL-I-00002680</td>\n",
       "      <td>46.03</td>\n",
       "    </tr>\n",
       "  </tbody>\n",
       "</table>\n",
       "</div>"
      ],
      "text/plain": [
       "          loanId  paymentAmount\n",
       "0  LL-I-00000021        1865.61\n",
       "1  LL-I-00000231         258.64\n",
       "2  LL-I-00000238        1162.60\n",
       "3  LL-I-00000308          61.59\n",
       "4  LL-I-00000419         226.31\n",
       "5  LL-I-00001902        1272.00\n",
       "6  LL-I-00002130         270.70\n",
       "7  LL-I-00002148         200.74\n",
       "8  LL-I-00002583         461.69\n",
       "9  LL-I-00002680          46.03"
      ]
     },
     "metadata": {},
     "execution_count": 11
    }
   ],
   "metadata": {}
  },
  {
   "cell_type": "code",
   "execution_count": 12,
   "source": [
    "\"\"\"\n",
    "Now we need to join the loan data and aggregated payments to provide total payments of a loan along with other loan columns.\n",
    "The intuition is to left join loan data with aggregated payments, as some funded loans might not have any payment at all.\n",
    "Hence, resulting join will leave some records with blanks on paymentAmount.\n",
    "\"\"\"\n",
    "joined_lp = loan_manager.left_join(agg_payment, 'loanId')"
   ],
   "outputs": [
    {
     "output_type": "execute_result",
     "data": {
      "text/plain": [
       "'\\nNow we need to join the loan data and aggregated payments to provide total payments of a loan along with other loan columns.\\nThe intuition is to left join loan data with aggregated payments, as some funded loans might not have any payment at all.\\nHence, resulting join will leave some records with blanks on paymentAmount.\\n'"
      ]
     },
     "metadata": {},
     "execution_count": 12
    }
   ],
   "metadata": {}
  },
  {
   "cell_type": "code",
   "execution_count": 13,
   "source": [
    "# Load underwriting data\n",
    "undw_feather_path = os.path.join(feather_path, 'clarity_underwriting_variables')\n",
    "undw_manager = DataLoader()\n",
    "undw_manager.load_feather(undw_feather_path)\n",
    "# undw_manager.display(10, False) # display last n rows"
   ],
   "outputs": [],
   "metadata": {}
  }
 ],
 "metadata": {
  "orig_nbformat": 4,
  "language_info": {
   "name": "python",
   "version": "3.8.12",
   "mimetype": "text/x-python",
   "codemirror_mode": {
    "name": "ipython",
    "version": 3
   },
   "pygments_lexer": "ipython3",
   "nbconvert_exporter": "python",
   "file_extension": ".py"
  },
  "kernelspec": {
   "name": "python3",
   "display_name": "Python 3.8.12 64-bit ('predictive': conda)"
  },
  "interpreter": {
   "hash": "716950cba88e4d332b35c8ddd4e849e4d8a5dadfbf33d00dfe2f47b77ad17c80"
  }
 },
 "nbformat": 4,
 "nbformat_minor": 2
}